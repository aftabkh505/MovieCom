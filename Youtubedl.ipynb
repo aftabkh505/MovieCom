{
  "nbformat": 4,
  "nbformat_minor": 0,
  "metadata": {
    "colab": {
      "name": "Youtubedl.ipynb",
      "provenance": [],
      "collapsed_sections": [],
      "include_colab_link": true
    },
    "kernelspec": {
      "name": "python3",
      "display_name": "Python 3"
    }
  },
  "cells": [
    {
      "cell_type": "markdown",
      "metadata": {
        "id": "view-in-github",
        "colab_type": "text"
      },
      "source": [
        "<a href=\"https://colab.research.google.com/github/aftabkh505/Ytplaylist/blob/master/Youtubedl.ipynb\" target=\"_parent\"><img src=\"https://colab.research.google.com/assets/colab-badge.svg\" alt=\"Open In Colab\"/></a>"
      ]
    },
    {
      "cell_type": "code",
      "metadata": {
        "id": "-TFOMqyPh1cd",
        "colab_type": "code",
        "colab": {}
      },
      "source": [
        "from google.colab import drive\n",
        "drive.mount('/content/drive')"
      ],
      "execution_count": null,
      "outputs": []
    },
    {
      "cell_type": "code",
      "metadata": {
        "id": "7RBGT0nnZNzk",
        "colab_type": "code",
        "colab": {}
      },
      "source": [
        "!sudo curl -L https://yt-dl.org/downloads/latest/youtube-dl -o /usr/local/bin/youtube-dl"
      ],
      "execution_count": null,
      "outputs": []
    },
    {
      "cell_type": "code",
      "metadata": {
        "id": "m3l8wAQ_cF0J",
        "colab_type": "code",
        "colab": {}
      },
      "source": [
        "!sudo chmod a+rx /usr/local/bin/youtube-dl"
      ],
      "execution_count": 6,
      "outputs": []
    },
    {
      "cell_type": "markdown",
      "metadata": {
        "id": "21YaROG2dbji",
        "colab_type": "text"
      },
      "source": [
        "Download Youtube Playlist just by Give the Id of the playlist\n",
        "\n",
        "> https://www.youtube.com/playlist?list=PLjwBf9QEIO979QpN8DZ_Q_E942KA_w27Q\n",
        "\n",
        "ID of Your Playlist From above example - **PLjwBf9QEIO979QpN8DZ_Q_E942KA_w27Q**\n"
      ]
    },
    {
      "cell_type": "code",
      "metadata": {
        "id": "--o1cgjTeNCf",
        "colab_type": "code",
        "colab": {}
      },
      "source": [
        "!youtube-dl -i [Your playlist id]"
      ],
      "execution_count": null,
      "outputs": []
    },
    {
      "cell_type": "markdown",
      "metadata": {
        "id": "opeJ4yARn60d",
        "colab_type": "text"
      },
      "source": [
        "change Your directory where You want to Download Your Playlist"
      ]
    },
    {
      "cell_type": "code",
      "metadata": {
        "id": "-p-0zQEdoKq4",
        "colab_type": "code",
        "colab": {}
      },
      "source": [
        "!cd"
      ],
      "execution_count": null,
      "outputs": []
    }
  ]
}